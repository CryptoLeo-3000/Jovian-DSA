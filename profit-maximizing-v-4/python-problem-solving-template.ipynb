{
 "cells": [
  {
   "cell_type": "markdown",
   "id": "58913e65",
   "metadata": {},
   "source": [
    "# Profit Maximizing"
   ]
  },
  {
   "cell_type": "code",
   "execution_count": 2,
   "id": "e1f690d7",
   "metadata": {},
   "outputs": [],
   "source": [
    "project_name = \"Profit Maximizing\""
   ]
  },
  {
   "cell_type": "code",
   "execution_count": 3,
   "id": "a2d0b785",
   "metadata": {},
   "outputs": [],
   "source": [
    "!pip install jovian --upgrade --quiet"
   ]
  },
  {
   "cell_type": "code",
   "execution_count": 4,
   "id": "9ecdc930",
   "metadata": {},
   "outputs": [],
   "source": [
    "import jovian"
   ]
  },
  {
   "cell_type": "code",
   "execution_count": 5,
   "id": "47f0d36f",
   "metadata": {},
   "outputs": [
    {
     "data": {
      "application/javascript": [
       "window.require && require([\"base/js/namespace\"],function(Jupyter){Jupyter.notebook.save_checkpoint()})"
      ],
      "text/plain": [
       "<IPython.core.display.Javascript object>"
      ]
     },
     "metadata": {},
     "output_type": "display_data"
    },
    {
     "name": "stdout",
     "output_type": "stream",
     "text": [
      "[jovian] Creating a new project \"cryptoleo-3000/Profit Maximizing\"\u001b[0m\n",
      "[jovian] Committed successfully! https://jovian.ai/cryptoleo-3000/profit-maximizing\u001b[0m\n"
     ]
    },
    {
     "data": {
      "text/plain": [
       "'https://jovian.ai/cryptoleo-3000/profit-maximizing'"
      ]
     },
     "execution_count": 5,
     "metadata": {},
     "output_type": "execute_result"
    }
   ],
   "source": [
    "jovian.commit(project=project_name)"
   ]
  },
  {
   "cell_type": "markdown",
   "id": "a5ed40f0",
   "metadata": {},
   "source": [
    "## Problem Statement\n",
    "\n",
    "\n",
    "> In daily share trading, a buyer buys shares in the morning and sells them on the same day. If the trader is allowed to make at most 2 transactions in a day, whereas the second transaction can only start after the first one is complete (Buy->sell->Buy->sell). Given stock prices throughout the day, find out the maximum profit that a share trader could have made.\n",
    "\n",
    "\n",
    "Source: https://www.geeksforgeeks.org/maximum-profit-by-buying-and-selling-a-share-at-most-twice/"
   ]
  },
  {
   "cell_type": "markdown",
   "id": "67446045",
   "metadata": {},
   "source": [
    "## The Method\n",
    "\n",
    "Here's the systematic strategy we'll apply for solving problems:\n",
    "\n",
    "1. State the problem clearly. Identify the input & output formats.\n",
    "2. Come up with some example inputs & outputs. Try to cover all edge cases.\n",
    "3. Come up with a correct solution for the problem. State it in plain English.\n",
    "4. Implement the solution and test it using example inputs. Fix bugs, if any.\n",
    "5. Analyze the algorithm's complexity and identify inefficiencies, if any.\n",
    "6. Apply the right technique to overcome the inefficiency. Repeat steps 3 to 6.\n",
    "\n",
    "This approach is explained in detail in [Lesson 1](https://jovian.ai/learn/data-structures-and-algorithms-in-python/lesson/lesson-1-binary-search-linked-lists-and-complexity) of the course. Let's apply this approach step-by-step."
   ]
  },
  {
   "cell_type": "markdown",
   "id": "323f4e41",
   "metadata": {},
   "source": [
    "## Solution\n",
    "\n",
    "\n",
    "### 1. State the problem clearly. Identify the input & output formats.\n",
    "\n",
    "While this problem is stated clearly enough, it's always useful to try and express in your own words, in a way that makes it most clear for you. \n",
    "\n",
    "\n",
    "**Problem**\n",
    "\n",
    "> **Calculate the maximum profit that can be generated from share prices in a day with atmost two transactions.**\n",
    "\n",
    "<br/>\n",
    "\n",
    "\n",
    "**Input**\n",
    "\n",
    "1. **[10, 22, 5, 75, 65, 80]**\n",
    "2. **[2, 30, 15, 10, 8, 25, 80]**\n",
    "\n",
    "\n",
    "**Output**\n",
    "\n",
    "1. **87**\n",
    "2. **100**\n",
    "\n",
    "<br/>\n",
    "\n",
    "Based on the above, we can now create a signature of our function:"
   ]
  },
  {
   "cell_type": "code",
   "execution_count": 6,
   "id": "7e46005a",
   "metadata": {},
   "outputs": [],
   "source": [
    "# Create a function signature here. The body of the function can contain a single statement: pass\n",
    "def signature():\n",
    "    pass"
   ]
  },
  {
   "cell_type": "markdown",
   "id": "54ac2c4b",
   "metadata": {},
   "source": [
    "Save and upload your work before continuing."
   ]
  },
  {
   "cell_type": "code",
   "execution_count": 7,
   "id": "7f43c87d",
   "metadata": {},
   "outputs": [
    {
     "data": {
      "application/javascript": [
       "window.require && require([\"base/js/namespace\"],function(Jupyter){Jupyter.notebook.save_checkpoint()})"
      ],
      "text/plain": [
       "<IPython.core.display.Javascript object>"
      ]
     },
     "metadata": {},
     "output_type": "display_data"
    },
    {
     "name": "stdout",
     "output_type": "stream",
     "text": [
      "[jovian] Updating notebook \"cryptoleo-3000/profit-maximizing\" on https://jovian.ai\u001b[0m\n",
      "[jovian] Committed successfully! https://jovian.ai/cryptoleo-3000/profit-maximizing\u001b[0m\n"
     ]
    },
    {
     "data": {
      "text/plain": [
       "'https://jovian.ai/cryptoleo-3000/profit-maximizing'"
      ]
     },
     "execution_count": 7,
     "metadata": {},
     "output_type": "execute_result"
    }
   ],
   "source": [
    "jovian.commit()"
   ]
  },
  {
   "cell_type": "markdown",
   "id": "e859a78e",
   "metadata": {},
   "source": [
    "### 2. Come up with some example inputs & outputs. Try to cover all edge cases.\n",
    "\n",
    "Our function should be able to handle any set of valid inputs we pass into it. Here's a list of some possible variations we might encounter:\n",
    "\n",
    "1. **[10, 22, 5, 75, 65, 80]**\n",
    "2. **[100, 30, 15, 10, 8, 25, 80]**\n",
    "3. **[90, 80, 70, 60, 50]**\n",
    "\n",
    "\n",
    "We'll express our test cases as dictionaries, to test them easily. Each dictionary will contain 2 keys: `input` (a dictionary itself containing one key for each argument to the function and `output` (the expected result from the function). "
   ]
  },
  {
   "cell_type": "code",
   "execution_count": 9,
   "id": "b610afb0",
   "metadata": {},
   "outputs": [],
   "source": [
    "test = {\n",
    "    'input': {[10, 22, 5, 75, 65, 80]},\n",
    "    'output': 87\n",
    "}"
   ]
  },
  {
   "cell_type": "markdown",
   "id": "4b326d66",
   "metadata": {},
   "source": [
    "Create one test case for each of the scenarios listed above. We'll store our test cases in an array called `tests`."
   ]
  },
  {
   "cell_type": "code",
   "execution_count": 10,
   "id": "7f3e0126",
   "metadata": {},
   "outputs": [],
   "source": [
    "tests = []"
   ]
  },
  {
   "cell_type": "code",
   "execution_count": 11,
   "id": "36d97e7d",
   "metadata": {},
   "outputs": [],
   "source": [
    "tests.append(test)"
   ]
  },
  {
   "cell_type": "code",
   "execution_count": 13,
   "id": "6b7bba38",
   "metadata": {},
   "outputs": [],
   "source": [
    "tests.append({\n",
    "    'input': {[100, 30, 15, 10, 8, 25, 80]},\n",
    "    'output': 72\n",
    "})"
   ]
  },
  {
   "cell_type": "code",
   "execution_count": 14,
   "id": "c6387b3e",
   "metadata": {},
   "outputs": [],
   "source": [
    "tests.append({\n",
    "    'input': {[90, 80, 70, 60, 50]},\n",
    "    'output': 0\n",
    "})"
   ]
  },
  {
   "cell_type": "markdown",
   "id": "df2eced5",
   "metadata": {},
   "source": [
    "### 3. Come up with a correct solution for the problem. State it in plain English.\n",
    "\n",
    "Our first goal should always be to come up with a _correct_ solution to the problem, which may not necessarily be the most _efficient_ solution. Come with a correct solution and explain it in simple words below:\n",
    "\n",
    "1. **Create a table profit[0..n-1] and initialize all values in it 0.**\n",
    "2. **Traverse price[] from right to left and update profit[i] such that profit[i] stores maximum profit achievable from one transaction in subarray price[i..n-1]**\n",
    "3. **Traverse price[] from left to right and update profit[i] such that profit[i] stores maximum profit such that profit[i] contains maximum achievable profit from two transactions in subarray price[0..i].**\n",
    "4. **Return profit[n-1]**"
   ]
  },
  {
   "cell_type": "code",
   "execution_count": 15,
   "id": "1631f3be",
   "metadata": {},
   "outputs": [
    {
     "data": {
      "application/javascript": [
       "window.require && require([\"base/js/namespace\"],function(Jupyter){Jupyter.notebook.save_checkpoint()})"
      ],
      "text/plain": [
       "<IPython.core.display.Javascript object>"
      ]
     },
     "metadata": {},
     "output_type": "display_data"
    },
    {
     "name": "stdout",
     "output_type": "stream",
     "text": [
      "[jovian] Updating notebook \"cryptoleo-3000/profit-maximizing\" on https://jovian.ai\u001b[0m\n",
      "[jovian] Committed successfully! https://jovian.ai/cryptoleo-3000/profit-maximizing\u001b[0m\n"
     ]
    },
    {
     "data": {
      "text/plain": [
       "'https://jovian.ai/cryptoleo-3000/profit-maximizing'"
      ]
     },
     "execution_count": 15,
     "metadata": {},
     "output_type": "execute_result"
    }
   ],
   "source": [
    "jovian.commit()"
   ]
  },
  {
   "cell_type": "markdown",
   "id": "cc72ed0e",
   "metadata": {},
   "source": [
    "###  4. Implement the solution and test it using example inputs. Fix bugs, if any."
   ]
  },
  {
   "cell_type": "code",
   "execution_count": 25,
   "id": "b93e5d6c",
   "metadata": {},
   "outputs": [],
   "source": [
    "import sys\n",
    "\n",
    "def maxtwobuysell(arr, size):\n",
    "    first_buy = -sys.maxsize; \n",
    "    first_sell = 0;\n",
    "    second_buy = -sys.maxsize; \n",
    "    second_sell = 0;\n",
    "\n",
    "    for i in range(size):\n",
    "        first_buy = max(first_buy, -arr[i]);\n",
    "        first_sell = max(first_sell, first_buy + arr[i]);\n",
    "        second_buy = max(second_buy, first_sell - arr[i]);\n",
    "        second_sell = max(second_sell, second_buy + arr[i]);\n",
    "    \n",
    "    print(f\"Maximum profit is {second_sell}\")"
   ]
  },
  {
   "cell_type": "code",
   "execution_count": 31,
   "id": "bfef63e6",
   "metadata": {},
   "outputs": [
    {
     "name": "stdout",
     "output_type": "stream",
     "text": [
      "Maximum profit is 82\n"
     ]
    }
   ],
   "source": [
    "maxProfit(list(tests[0]['input']), len(list(tests[0]['input'])))"
   ]
  },
  {
   "cell_type": "code",
   "execution_count": 32,
   "id": "484c6f04",
   "metadata": {},
   "outputs": [
    {
     "name": "stdout",
     "output_type": "stream",
     "text": [
      "Maximum profit is 42\n"
     ]
    }
   ],
   "source": [
    "maxProfit(list(tests[1]['input']), len(list(tests[1]['input'])))"
   ]
  },
  {
   "cell_type": "code",
   "execution_count": 33,
   "id": "a6dd503f",
   "metadata": {},
   "outputs": [
    {
     "name": "stdout",
     "output_type": "stream",
     "text": [
      "Maximum profit is 40\n"
     ]
    }
   ],
   "source": [
    "maxProfit(list(tests[2]['input']), len(list(tests[2]['input'])))"
   ]
  },
  {
   "cell_type": "markdown",
   "id": "1638d273",
   "metadata": {},
   "source": [
    "### 5. Analyze the algorithm's complexity and identify inefficiencies, if any."
   ]
  },
  {
   "cell_type": "markdown",
   "id": "21360805",
   "metadata": {},
   "source": [
    "Time Complexity: O(N)\n",
    "\n",
    "Auxiliary Space: O(1)"
   ]
  },
  {
   "cell_type": "markdown",
   "id": "a863a463",
   "metadata": {},
   "source": [
    "Four variables initialed for taking care of the first buy, first sell, second buy, second sell. First buy and second buy set as INT_MIN and first and second sell as 0. This is to ensure to get profit from transactions. Array iteration and return of second sell as it will store maximum profit."
   ]
  },
  {
   "cell_type": "code",
   "execution_count": null,
   "id": "899ab752",
   "metadata": {},
   "outputs": [
    {
     "data": {
      "application/javascript": [
       "window.require && require([\"base/js/namespace\"],function(Jupyter){Jupyter.notebook.save_checkpoint()})"
      ],
      "text/plain": [
       "<IPython.core.display.Javascript object>"
      ]
     },
     "metadata": {},
     "output_type": "display_data"
    }
   ],
   "source": [
    "jovian.commit()"
   ]
  },
  {
   "cell_type": "code",
   "execution_count": null,
   "id": "d33e9540",
   "metadata": {},
   "outputs": [],
   "source": []
  }
 ],
 "metadata": {
  "language_info": {
   "codemirror_mode": {
    "name": "ipython",
    "version": 3
   },
   "file_extension": ".py",
   "mimetype": "text/x-python",
   "name": "python",
   "nbconvert_exporter": "python",
   "pygments_lexer": "ipython3",
   "version": "3.9.6"
  }
 },
 "nbformat": 4,
 "nbformat_minor": 5
}